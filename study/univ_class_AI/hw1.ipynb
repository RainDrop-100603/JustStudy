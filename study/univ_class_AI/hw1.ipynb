{
 "cells": [
  {
   "cell_type": "markdown",
   "metadata": {},
   "source": [
    "* 코드\n",
    "    * torch.no_grad(): gradient calculation을 disable한다. backward를 더이상 하지 않을것 같으면 수행 \n",
    "        * with torch.no_grad()를 사용한 이유는, model에 data를 넣으면 backward를 계산하게 되는데, 지금은 계산이 필요없으므로 비활성화\n",
    "    * nn.Sequential(bla): bla에 method을 입력하여 model을 정의할 수 있다."
   ]
  },
  {
   "cell_type": "code",
   "execution_count": 6,
   "metadata": {},
   "outputs": [
    {
     "name": "stdout",
     "output_type": "stream",
     "text": [
      "epoch: 0/10000, cost:   0.731258\n",
      "epoch: 1000/10000, cost:   0.002018\n",
      "epoch: 2000/10000, cost:   0.000911\n",
      "epoch: 3000/10000, cost:   0.000580\n",
      "epoch: 4000/10000, cost:   0.000424\n",
      "epoch: 5000/10000, cost:   0.000333\n",
      "epoch: 6000/10000, cost:   0.000274\n",
      "epoch: 7000/10000, cost:   0.000232\n",
      "epoch: 8000/10000, cost:   0.000201\n",
      "epoch: 9000/10000, cost:   0.000178\n",
      "epoch: 10000/10000, cost:   0.000159\n",
      "Hypothesis: [6.2573643e-05 9.9996638e-01 9.9950826e-01 4.7672464e-05]\n",
      "Predicted: [0. 1. 1. 0.]\n",
      "Label: [0. 1. 1. 0.]\n",
      "Accuracy: 1.0\n"
     ]
    }
   ],
   "source": [
    "import torch\n",
    "import torch.optim as optim\n",
    "import torch.nn as nn\n",
    "\n",
    "torch.manual_seed(777)\n",
    "\n",
    "x_data = torch.FloatTensor([[0, 0], [0, 1], [1, 0], [1, 1]])\n",
    "y_data = torch.FloatTensor([[0], [1], [1], [0]])\n",
    "model = nn.Sequential(nn.Linear(2, 2), nn.ReLU(), nn.Linear(2, 1), nn.Sigmoid())\n",
    "criterion = nn.BCELoss()\n",
    "optimizer = optim.SGD(model.parameters(), lr=1)\n",
    "\n",
    "epochs = 10000\n",
    "for epoch in range(epochs + 1):\n",
    "    optimizer.zero_grad()\n",
    "    hypothesis = model(x_data)\n",
    "    cost = criterion(hypothesis, y_data)\n",
    "    cost.backward()\n",
    "    optimizer.step()\n",
    "\n",
    "    if epoch % 1000 == 0:\n",
    "        print(f\"epoch: {epoch}/{epochs}, cost: {cost:10f}\")\n",
    "\n",
    "with torch.no_grad():\n",
    "    hypothesis = model(x_data)\n",
    "    predicted = (hypothesis > 0.5).float()\n",
    "    accuracy = (predicted == y_data).float().mean()\n",
    "    print(f\"Hypothesis: {hypothesis.squeeze().numpy()}\")\n",
    "    print(f\"Predicted: {predicted.squeeze().numpy()}\")\n",
    "    print(f\"Label: {y_data.squeeze().numpy()}\")\n",
    "    print(f\"Accuracy: {accuracy}\")\n"
   ]
  },
  {
   "cell_type": "code",
   "execution_count": 8,
   "metadata": {},
   "outputs": [
    {
     "name": "stdout",
     "output_type": "stream",
     "text": [
      "epoch: 0/1000, cost:   1.712296\n",
      "epoch: 100/1000, cost:   0.409370\n",
      "epoch: 200/1000, cost:   0.344762\n",
      "epoch: 300/1000, cost:   0.297548\n",
      "epoch: 400/1000, cost:   0.260567\n",
      "epoch: 500/1000, cost:   0.231143\n",
      "epoch: 600/1000, cost:   0.207381\n",
      "epoch: 700/1000, cost:   0.187901\n",
      "epoch: 800/1000, cost:   0.171701\n",
      "epoch: 900/1000, cost:   0.158048\n",
      "epoch: 1000/1000, cost:   0.146405\n",
      "Hypothesis: [0.02941117 0.1570072  0.29843977 0.78433347 0.9414194  0.98078936]\n",
      "Predicted: [0. 0. 0. 1. 1. 1.]\n",
      "Label: [0. 0. 0. 1. 1. 1.]\n",
      "Accuracy: 1.0\n"
     ]
    }
   ],
   "source": [
    "import torch\n",
    "import torch.optim as optim\n",
    "import torch.nn as nn\n",
    "\n",
    "torch.manual_seed(777)\n",
    "\n",
    "x_data = torch.FloatTensor([[1, 2], [2, 3], [3, 1], [4, 3], [5, 3], [6, 2]])\n",
    "y_data = torch.FloatTensor([[0], [0], [0], [1], [1], [1]])\n",
    "model = nn.Sequential(nn.Linear(2, 1), nn.Sigmoid())\n",
    "criterion = nn.BCELoss()\n",
    "optimizer = optim.SGD(model.parameters(), lr=0.1)\n",
    "\n",
    "epochs = 1000\n",
    "for epoch in range(epochs + 1):\n",
    "    optimizer.zero_grad()\n",
    "    hypothesis = model(x_data)\n",
    "    cost = criterion(hypothesis, y_data)\n",
    "    cost.backward()\n",
    "    optimizer.step()\n",
    "\n",
    "    if epoch % 100 == 0:\n",
    "        print(f\"epoch: {epoch}/{epochs}, cost: {cost:10f}\")\n",
    "\n",
    "with torch.no_grad():\n",
    "    hypothesis = model(x_data)\n",
    "    predicted = (hypothesis > 0.5).float()\n",
    "    accuracy = (predicted == y_data).float().mean()\n",
    "    print(f\"Hypothesis: {hypothesis.squeeze().numpy()}\")\n",
    "    print(f\"Predicted: {predicted.squeeze().numpy()}\")\n",
    "    print(f\"Label: {y_data.squeeze().numpy()}\")\n",
    "    print(f\"Accuracy: {accuracy}\")\n"
   ]
  }
 ],
 "metadata": {
  "interpreter": {
   "hash": "ce6f5f2176fa1015014ce62a292580aac2c44145c664deaa66f90a66e6ca1327"
  },
  "kernelspec": {
   "display_name": "Python 3.8.10 ('univ_class_AI-1i58k4F2')",
   "language": "python",
   "name": "python3"
  },
  "language_info": {
   "codemirror_mode": {
    "name": "ipython",
    "version": 3
   },
   "file_extension": ".py",
   "mimetype": "text/x-python",
   "name": "python",
   "nbconvert_exporter": "python",
   "pygments_lexer": "ipython3",
   "version": "3.8.10"
  },
  "orig_nbformat": 4
 },
 "nbformat": 4,
 "nbformat_minor": 2
}
