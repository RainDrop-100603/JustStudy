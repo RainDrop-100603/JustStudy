{
 "cells": [
  {
   "cell_type": "markdown",
   "metadata": {},
   "source": [
    "* 코드\n",
    "    * torch.no_grad(): gradient calculation을 disable한다. backward를 더이상 하지 않을것 같으면 수행 \n",
    "        * with torch.no_grad()를 사용한 이유는, model에 data를 넣으면 backward를 계산하게 되는데, 지금은 계산이 필요없으므로 비활성화\n",
    "    * nn.Sequential(bla): bla에 method을 입력하여 model을 정의할 수 있다."
   ]
  },
  {
   "cell_type": "code",
   "execution_count": 23,
   "metadata": {},
   "outputs": [
    {
     "name": "stdout",
     "output_type": "stream",
     "text": [
      "epoch: 0/10000, cost:   0.731258\n",
      "epoch: 1000/10000, cost:   0.002018\n",
      "epoch: 2000/10000, cost:   0.000911\n",
      "epoch: 3000/10000, cost:   0.000580\n",
      "epoch: 4000/10000, cost:   0.000424\n",
      "epoch: 5000/10000, cost:   0.000333\n",
      "epoch: 6000/10000, cost:   0.000274\n",
      "epoch: 7000/10000, cost:   0.000232\n",
      "epoch: 8000/10000, cost:   0.000201\n",
      "epoch: 9000/10000, cost:   0.000178\n",
      "epoch: 10000/10000, cost:   0.000159\n",
      "Hypothesis: [6.2573643e-05 9.9996638e-01 9.9950826e-01 4.7672464e-05]\n",
      "Predicted: [0. 1. 1. 0.]\n",
      "Label: [0. 1. 1. 0.]\n",
      "Accuracy: 1.0\n"
     ]
    }
   ],
   "source": [
    "import torch\n",
    "import torch.optim as optim\n",
    "import torch.nn as nn\n",
    "\n",
    "device = \"cuda\" if torch.cuda.is_available() else \"cpu\"\n",
    "torch.manual_seed(777)\n",
    "if device == \"cuda\":\n",
    "    torch.cuda.manual_seed_all(777)\n",
    "\n",
    "x_data = torch.FloatTensor([[0, 0], [0, 1], [1, 0], [1, 1]])\n",
    "y_data = torch.FloatTensor([[0], [1], [1], [0]])\n",
    "model = nn.Sequential(nn.Linear(2, 2), nn.ReLU(), nn.Linear(2, 1), nn.Sigmoid()).to(\n",
    "    device\n",
    ")\n",
    "loss_func = nn.BCELoss().to(device)\n",
    "optimizer = optim.SGD(model.parameters(), lr=1)\n",
    "\n",
    "epochs = 10000\n",
    "for epoch in range(epochs + 1):\n",
    "    optimizer.zero_grad()\n",
    "    hypothesis = model(x_data)\n",
    "    cost = loss_func(hypothesis, y_data)\n",
    "    cost.backward()\n",
    "    optimizer.step()\n",
    "\n",
    "    if epoch % 1000 == 0:\n",
    "        print(f\"epoch: {epoch}/{epochs}, cost: {cost:10f}\")\n",
    "\n",
    "with torch.no_grad():\n",
    "    hypothesis = model(x_data)\n",
    "    predicted = (hypothesis > 0.5).float()\n",
    "    accuracy = (predicted == y_data).float().mean()\n",
    "    print(f\"Hypothesis: {hypothesis.squeeze().numpy()}\")\n",
    "    print(f\"Predicted: {predicted.squeeze().numpy()}\")\n",
    "    print(f\"Label: {y_data.squeeze().numpy()}\")\n",
    "    print(f\"Accuracy: {accuracy}\")\n"
   ]
  },
  {
   "cell_type": "code",
   "execution_count": null,
   "metadata": {},
   "outputs": [],
   "source": []
  }
 ],
 "metadata": {
  "interpreter": {
   "hash": "ce6f5f2176fa1015014ce62a292580aac2c44145c664deaa66f90a66e6ca1327"
  },
  "kernelspec": {
   "display_name": "Python 3.8.10 ('univ_class_AI-1i58k4F2')",
   "language": "python",
   "name": "python3"
  },
  "language_info": {
   "codemirror_mode": {
    "name": "ipython",
    "version": 3
   },
   "file_extension": ".py",
   "mimetype": "text/x-python",
   "name": "python",
   "nbconvert_exporter": "python",
   "pygments_lexer": "ipython3",
   "version": "3.8.10"
  },
  "orig_nbformat": 4
 },
 "nbformat": 4,
 "nbformat_minor": 2
}
