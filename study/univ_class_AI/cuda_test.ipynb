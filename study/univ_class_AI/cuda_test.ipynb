{
 "cells": [
  {
   "cell_type": "code",
   "execution_count": 7,
   "metadata": {},
   "outputs": [
    {
     "name": "stdout",
     "output_type": "stream",
     "text": [
      "cuda avaliable\n",
      "True\n"
     ]
    }
   ],
   "source": [
    "import torch\n",
    "\n",
    "device = \"cuda\" if torch.cuda.is_available() else \"cpu\"\n",
    "if device == \"cuda\":\n",
    "    print(\"cuda avaliable\")\n",
    "    torch.cuda.manual_seed_all(777)\n",
    "torch.manual_seed(777)\n",
    "x = torch.tensor((5, 5)).to(device)\n",
    "print(x.is_cuda)\n"
   ]
  },
  {
   "cell_type": "markdown",
   "metadata": {},
   "source": [
    "cuda test \n",
    "\n",
    ".cuda() .cpu() .to(device)\n",
    "    cuda 혹은 cpu로 사용할 수 있게 해준다.\n",
    "    사용위치: input, label dataa, model, ... \n",
    "\n",
    ".cpu()\n",
    "    numpy()를 사용하려면 cpu로 바꾸어야 한다. \n",
    "\n",
    "속도 \n",
    "    cuda는 병렬 연산이 특기, 아래처럼 단순한 모델링은 cpu가 더 빠르다.\n",
    "    모델링 해보고 더 빠른걸로 하자 \n",
    "\n",
    "cuda 사용 여부는 작업관리자 -> gpu -> 항목을 Cuda로 바꿔주면 된다.  "
   ]
  },
  {
   "cell_type": "code",
   "execution_count": 6,
   "metadata": {},
   "outputs": [
    {
     "name": "stdout",
     "output_type": "stream",
     "text": [
      "epoch: 0/10000, cost:   0.711826\n",
      "epoch: 1000/10000, cost:   0.693077\n",
      "epoch: 2000/10000, cost:   0.692707\n",
      "epoch: 3000/10000, cost:   0.667814\n",
      "epoch: 4000/10000, cost:   0.000780\n",
      "epoch: 5000/10000, cost:   0.000246\n",
      "epoch: 6000/10000, cost:   0.000141\n",
      "epoch: 7000/10000, cost:   0.000097\n",
      "epoch: 8000/10000, cost:   0.000074\n",
      "epoch: 9000/10000, cost:   0.000059\n",
      "epoch: 10000/10000, cost:   0.000049\n",
      "Hypothesis: [3.5904413e-05 9.9995232e-01 9.9995041e-01 6.2342129e-05]\n",
      "Predicted: [0. 1. 1. 0.]\n",
      "Label: [0. 1. 1. 0.]\n",
      "Accuracy: 1.0\n"
     ]
    }
   ],
   "source": [
    "\n",
    "import torch\n",
    "import torch.nn as nn\n",
    "import torch.optim as optim\n",
    "\n",
    "device = 'cpu'\n",
    "#device = \"cuda\" if torch.cuda.is_available() else \"cpu\"\n",
    "torch.manual_seed(777)\n",
    "if device == \"cuda\":\n",
    "    print(\"cuda avaliable\")\n",
    "    torch.cuda.manual_seed_all(777)\n",
    "\n",
    "x_data = torch.FloatTensor([[0,0],[0,1],[1,0],[1,1]]).to(device)\n",
    "y_data = torch.FloatTensor([[0],[1],[1],[0]]).to(device)\n",
    "\n",
    "#model = nn.Sequential(nn.Linear(2, 2), nn.ReLU(), nn.Linear(2, 1), nn.Sigmoid()).to(device)\n",
    "model = nn.Sequential(\n",
    "    nn.Linear(2,100), nn.Sigmoid(),\n",
    "    nn.Linear(100,100),nn.Sigmoid(),\n",
    "    nn.Linear(100,100),nn.Sigmoid(),\n",
    "    nn.Linear(100,1),nn.Sigmoid(),\n",
    ").to(device)\n",
    "criterion = nn.BCELoss()\n",
    "optimizer = optim.SGD(model.parameters(), lr=1)\n",
    "\n",
    "epochs = 10000\n",
    "for epoch in range(epochs + 1):\n",
    "    optimizer.zero_grad()\n",
    "    hypothesis = model(x_data)\n",
    "    cost = criterion(hypothesis, y_data)\n",
    "    cost.backward()\n",
    "    optimizer.step()\n",
    "\n",
    "    if epoch % 1000 == 0:\n",
    "        print(f\"epoch: {epoch}/{epochs}, cost: {cost:10f}\")\n",
    "\n",
    "with torch.no_grad():\n",
    "    hypothesis = model(x_data)\n",
    "    predicted = (hypothesis > 0.5).float()\n",
    "    accuracy = (predicted == y_data).float().mean()\n",
    "    print(f\"Hypothesis: {hypothesis.cpu().squeeze().numpy()}\")\n",
    "    print(f\"Predicted: {predicted.squeeze().cpu().numpy()}\")\n",
    "    print(f\"Label: {y_data.squeeze().cpu().numpy()}\")\n",
    "    print(f\"Accuracy: {accuracy}\")\n"
   ]
  }
 ],
 "metadata": {
  "kernelspec": {
   "display_name": "Python 3.8.10 64-bit",
   "language": "python",
   "name": "python3"
  },
  "language_info": {
   "codemirror_mode": {
    "name": "ipython",
    "version": 3
   },
   "file_extension": ".py",
   "mimetype": "text/x-python",
   "name": "python",
   "nbconvert_exporter": "python",
   "pygments_lexer": "ipython3",
   "version": "3.8.10"
  },
  "orig_nbformat": 4,
  "vscode": {
   "interpreter": {
    "hash": "cc131b8b101b984a122f52f354029d76580063cc58defb9f8f6ecaae2f96e377"
   }
  }
 },
 "nbformat": 4,
 "nbformat_minor": 2
}
