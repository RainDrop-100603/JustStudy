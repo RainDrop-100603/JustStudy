{
 "cells": [
  {
   "cell_type": "code",
   "execution_count": 20,
   "metadata": {},
   "outputs": [],
   "source": [
    "import torch\n",
    "import torchvision\n",
    "import torchvision.transforms as transforms\n",
    "import torch.nn \n",
    "import torch.optim as optim\n",
    "\n"
   ]
  },
  {
   "cell_type": "code",
   "execution_count": 24,
   "metadata": {},
   "outputs": [
    {
     "name": "stdout",
     "output_type": "stream",
     "text": [
      "cuda avaliable\n",
      "Files already downloaded and verified\n",
      "Files already downloaded and verified\n",
      "총 배치의 수: 195\n",
      "[Epoch:    1] cost = 1.56508565 test_accuracy = 0.548998415\n",
      "[Epoch:    2] cost = 1.19256425 test_accuracy = 0.611758828\n",
      "[Epoch:    3] cost = 1.05846155 test_accuracy = 0.645232379\n",
      "[Epoch:    4] cost = 0.969720602 test_accuracy = 0.674839735\n",
      "[Epoch:    5] cost = 0.905679762 test_accuracy = 0.697455943\n",
      "[Epoch:    6] cost = 0.854334891 test_accuracy = 0.713401437\n",
      "[Epoch:    7] cost = 0.812100172 test_accuracy = 0.727183521\n",
      "[Epoch:    8] cost = 0.776243687 test_accuracy = 0.739282846\n",
      "[Epoch:    9] cost = 0.74466908 test_accuracy = 0.751422286\n",
      "[Epoch:   10] cost = 0.716494799 test_accuracy = 0.762099385\n",
      "[Epoch:   11] cost = 0.690256178 test_accuracy = 0.770673096\n",
      "[Epoch:   12] cost = 0.666142941 test_accuracy = 0.778645873\n",
      "[Epoch:   13] cost = 0.643589854 test_accuracy = 0.784915864\n",
      "[Epoch:   14] cost = 0.622709394 test_accuracy = 0.788721979\n",
      "[Epoch:   15] cost = 0.603397191 test_accuracy = 0.793349385\n"
     ]
    }
   ],
   "source": [
    "class CNN(torch.nn.Module):\n",
    "    def __init__(self):\n",
    "        super(CNN, self).__init__()\n",
    "        # 3 32 32 -> 32 16 16\n",
    "        self.layer1 = torch.nn.Sequential(\n",
    "            torch.nn.Conv2d(3, 32, kernel_size=3, stride=1, padding=1),\n",
    "            torch.nn.ReLU(),\n",
    "            torch.nn.MaxPool2d(kernel_size=2, stride=2),\n",
    "        )\n",
    "        # 32 16 16 -> 64 8 8\n",
    "        self.layer2 = torch.nn.Sequential(\n",
    "            torch.nn.Conv2d(32, 64, kernel_size=3, stride=1, padding=1),\n",
    "            torch.nn.ReLU(),\n",
    "            torch.nn.MaxPool2d(kernel_size=2, stride=2),\n",
    "        )\n",
    "        self.fc = torch.nn.Linear(8 * 8 * 64, 10, bias=True)\n",
    "        torch.nn.init.xavier_uniform_(self.fc.weight)  # 가중치 초기화 방식\n",
    "\n",
    "    def forward(self, x):\n",
    "        out = self.layer1(x)\n",
    "        out = self.layer2(out)\n",
    "        out = out.view(out.size(0), -1)  # flatten\n",
    "        out = self.fc(out)\n",
    "        return out\n",
    "\n",
    "\n",
    "def main():\n",
    "    device = \"cuda\" if torch.cuda.is_available() else \"cpu\"\n",
    "    torch.manual_seed(777)\n",
    "    if device == \"cuda\":\n",
    "        print(\"cuda avaliable\")\n",
    "        torch.cuda.manual_seed_all(777)\n",
    "\n",
    "    # transform.Compose: data를 원하는 형태로 가공\n",
    "    # normalize: (value-mean)/std, 3ch(rgb)라 3개, 0~1을 -1~1로 바꿈, transforms.Normalize((mean1, mean2, mean3), (std1, std2, std3)),\n",
    "    transform = transforms.Compose([transforms.ToTensor(), transforms.Normalize((0.5, 0.5, 0.5), (0.5, 0.5, 0.5))])\n",
    "\n",
    "    batch_size = 256\n",
    "    num_workers = 4  # cpu 사용량, 스레드의 절반 정도면 무난하다.\n",
    "    learning_rate = 0.001\n",
    "    training_epochs = 15\n",
    "\n",
    "    trainset = torchvision.datasets.CIFAR10(root=\"./data\", train=True, download=True, transform=transform)\n",
    "    trainloader = torch.utils.data.DataLoader(\n",
    "        trainset, batch_size=batch_size, shuffle=True, num_workers=num_workers, drop_last=True\n",
    "    )\n",
    "\n",
    "    testset = torchvision.datasets.CIFAR10(root=\"./data\", train=False, download=True, transform=transform)\n",
    "    testloader = trainloader = torch.utils.data.DataLoader(\n",
    "        trainset, batch_size=batch_size, shuffle=False, num_workers=num_workers, drop_last=True\n",
    "    )\n",
    "    classes = (\"plane\", \"car\", \"bird\", \"cat\", \"deer\", \"dog\", \"frog\", \"horse\", \"ship\", \"truck\")\n",
    "\n",
    "    model = CNN().to(device)\n",
    "    criterion = torch.nn.CrossEntropyLoss().to(device)  # softmax 포함되어 있음\n",
    "    optimizer = torch.optim.Adam(model.parameters(), lr=learning_rate)\n",
    "    total_batch = len(trainloader)\n",
    "    print(f\"총 배치의 수: {total_batch}\")\n",
    "\n",
    "    for epoch in range(training_epochs):\n",
    "        avg_cost = 0\n",
    "\n",
    "        for X, Y in trainloader:  # 미니 배치 단위로 꺼내온다, X = 미니배치, Y = label\n",
    "            # image is already size of 28x28, no reshape\n",
    "            # label is not one-hot encoded\n",
    "            X = X.to(device)\n",
    "            Y = Y.to(device)\n",
    "\n",
    "            optimizer.zero_grad()\n",
    "            hypothesis = model(X)\n",
    "            cost = criterion(hypothesis, Y)\n",
    "            cost.backward()\n",
    "            optimizer.step()\n",
    "\n",
    "            avg_cost += cost / total_batch\n",
    "\n",
    "        with torch.no_grad():\n",
    "            avg_accuracy = 0\n",
    "            count = 0\n",
    "            for x, y in testloader:\n",
    "                count += 1\n",
    "                x_test = x.to(device)\n",
    "                y_test = y.to(device)\n",
    "                prediction = model(x_test)\n",
    "                correct_prediction = torch.argmax(prediction, 1) == y_test\n",
    "                avg_accuracy += correct_prediction.float().mean()\n",
    "            avg_accuracy = avg_accuracy/count\n",
    "            print(f\"[Epoch: {epoch+1:>4}] cost = {avg_cost:>.9} test_accuracy = {avg_accuracy:>.9}\")\n",
    "\n",
    "    # test\n",
    "\n",
    "\n",
    "if __name__ == \"__main__\":\n",
    "    # 멀티태스킹 오류 안나려면 이렇게 실행해야 한다\n",
    "    main()\n"
   ]
  },
  {
   "cell_type": "code",
   "execution_count": 13,
   "metadata": {},
   "outputs": [
    {
     "name": "stdout",
     "output_type": "stream",
     "text": [
      "torch.Size([100])\n"
     ]
    },
    {
     "data": {
      "text/plain": [
       "torch.Size([20, 33, 24, 49])"
      ]
     },
     "execution_count": 13,
     "metadata": {},
     "output_type": "execute_result"
    }
   ],
   "source": [
    "input=torch.randn(20,16,50,100)\n",
    "print(input[0][0][0].size())\n",
    "m=torch.nn.Conv2d(16,33,3,stride=2)\n",
    "output=m(input);\n",
    "output.size()"
   ]
  }
 ],
 "metadata": {
  "kernelspec": {
   "display_name": "Python 3.8.10 64-bit",
   "language": "python",
   "name": "python3"
  },
  "language_info": {
   "codemirror_mode": {
    "name": "ipython",
    "version": 3
   },
   "file_extension": ".py",
   "mimetype": "text/x-python",
   "name": "python",
   "nbconvert_exporter": "python",
   "pygments_lexer": "ipython3",
   "version": "3.8.10"
  },
  "orig_nbformat": 4,
  "vscode": {
   "interpreter": {
    "hash": "cc131b8b101b984a122f52f354029d76580063cc58defb9f8f6ecaae2f96e377"
   }
  }
 },
 "nbformat": 4,
 "nbformat_minor": 2
}
