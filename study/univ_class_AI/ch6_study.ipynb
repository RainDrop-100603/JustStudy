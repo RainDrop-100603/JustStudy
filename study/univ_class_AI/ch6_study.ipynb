{
 "cells": [
  {
   "cell_type": "code",
   "execution_count": null,
   "metadata": {},
   "outputs": [],
   "source": []
  }
 ],
 "metadata": {
  "kernelspec": {
   "display_name": "Python 3.8.10 ('deep_learning-2nzCan8t')",
   "language": "python",
   "name": "python3"
  },
  "language_info": {
   "name": "python",
   "version": "3.8.10"
  },
  "orig_nbformat": 4,
  "vscode": {
   "interpreter": {
    "hash": "47a76cc6cc717bae4e839f60eebec3290c838836c41780b1b6f292f9d88b61ed"
   }
  }
 },
 "nbformat": 4,
 "nbformat_minor": 2
}
